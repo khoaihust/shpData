{
 "cells": [
  {
   "cell_type": "markdown",
   "id": "9595babd-53ee-4769-83db-4e8ae42e3c97",
   "metadata": {},
   "source": [
    "# Use spark"
   ]
  },
  {
   "cell_type": "code",
   "execution_count": 1,
   "id": "43910001-b33d-45c9-b8c6-c979664cdaa4",
   "metadata": {},
   "outputs": [
    {
     "name": "stderr",
     "output_type": "stream",
     "text": [
      "Setting default log level to \""
     ]
    }
   ],
   "source": [
    "import os, re, time\n",
    "import glob, json\n",
    "\n",
    "from pyspark.sql import SparkSession\n",
    "from pyspark.sql import functions as F\n",
    "from pyspark.sql.types import *\n",
    "\n",
    "from IPython.display import display, clear_output\n",
    "import pandas as pd\n",
    "\n",
    "spark = SparkSession.builder \\\n",
    "    .appName(\"TRANSFORM_DATA\")\\\n",
    "    .master(\"local[*]\")\\\n",
    "    .config(\"spark.local.dir\", \"/home/khoaint/logsSpark\") \\\n",
    "    .config(\"spark.driver.memory\",\"16G\")\\\n",
    "    .config(\"spark.driver.maxResultSize\", \"0\") \\\n",
    "    .config(\"spark.kryoserializer.buffer.max\", \"2000M\")\\\n",
    "    .getOrCreate()"
   ]
  },
  {
   "cell_type": "code",
   "execution_count": 2,
   "id": "c7fb0fed-0b57-4110-9713-1be5df11bf98",
   "metadata": {},
   "outputs": [],
   "source": [
    "st = time.time()\n",
    "\n",
    "json_files = glob.glob('./**/*.json', recursive = True)\n",
    "# len(json_files)"
   ]
  },
  {
   "cell_type": "code",
   "execution_count": 3,
   "id": "04b37a3c-dc79-4430-b4d8-a3e64b6f0c9c",
   "metadata": {},
   "outputs": [],
   "source": [
    "df = spark.read.json(json_files)\n",
    "# df.show()"
   ]
  },
  {
   "cell_type": "code",
   "execution_count": 4,
   "id": "75413d1c-115f-40bc-8e6e-f43756fc6834",
   "metadata": {},
   "outputs": [],
   "source": [
    "df = df.withColumn('product', F.explode((df.data.sections)[0].data.item)).select('product')\n",
    "# df.count()"
   ]
  },
  {
   "cell_type": "code",
   "execution_count": 5,
   "id": "3e73dfa7-4a3a-4571-8ae4-1eef0206ad67",
   "metadata": {
    "scrolled": true
   },
   "outputs": [],
   "source": [
    "# df.printSchema()"
   ]
  },
  {
   "cell_type": "code",
   "execution_count": 6,
   "id": "ed00d43c-2d14-4f3a-9054-4cca8376e279",
   "metadata": {},
   "outputs": [],
   "source": [
    "def getUrl(name, shopid, itemid):\n",
    "    name = re.sub('[\\[\\]\\/\\\\\\%#\\?\\\" \\|]', '-', name)\n",
    "    name = re.sub('-+', '-', name)\n",
    "    name = 'https://shopee.vn/'+name + f\"-i.{shopid}.{itemid}\"\n",
    "    return name\n",
    "    \n",
    "udf_url = F.udf(getUrl, StringType())"
   ]
  },
  {
   "cell_type": "code",
   "execution_count": 7,
   "id": "96bc0dad-838e-4592-9b16-6c714a026af6",
   "metadata": {},
   "outputs": [],
   "source": [
    "# # product_name: product['name']\n",
    "# # product_url: product['name']-i.product['shopid'].product['itemid']\n",
    "# # product_rating: product['item_rating']['rating_star']\n",
    "# # product_price: product['price']\n",
    "# # product_revenue: product['price']*product['historical_sold']\n",
    "\n",
    "df = df.withColumn('product_name', df.product['name'])\n",
    "df = df.withColumn('shopid', df.product['shopid'])\n",
    "df = df.withColumn('itemid', df.product['itemid'])\n",
    "df = df.withColumn('product_rating', df.product['item_rating']['rating_star'])\n",
    "df = df.withColumn('product_price', df.product['price'])\n",
    "df = df.withColumn('product_hs', df.product['historical_sold'])\n",
    "df = df.withColumn('product_url', udf_url(F.col('product_name'), F.col('shopid'), F.col('itemid')))\n",
    "df = df.withColumn('product_revenue', F.col('product_price')*F.col('product_hs'))"
   ]
  },
  {
   "cell_type": "code",
   "execution_count": 8,
   "id": "c2febbbd-d249-4270-8533-657e9f52b417",
   "metadata": {},
   "outputs": [],
   "source": [
    "df = df.select('product_name', 'product_rating', 'product_price', 'product_url', 'product_revenue')"
   ]
  },
  {
   "cell_type": "code",
   "execution_count": 9,
   "id": "35e5e2d3-7eea-4715-b3fc-47eedc6a5ea2",
   "metadata": {},
   "outputs": [],
   "source": [
    "# df.count()"
   ]
  },
  {
   "cell_type": "code",
   "execution_count": 10,
   "id": "a00b16b0-d181-43fa-aac0-448f46c2a14e",
   "metadata": {},
   "outputs": [],
   "source": [
    "# df.select('product_name', 'product_url').show(50, False)"
   ]
  },
  {
   "cell_type": "code",
   "execution_count": 11,
   "id": "092acac5-011a-4d82-a22d-15a89c3c7194",
   "metadata": {},
   "outputs": [],
   "source": [
    "en = time.time()"
   ]
  },
  {
   "cell_type": "code",
   "execution_count": 12,
   "id": "f2c85727-f6d4-49c3-9e4c-cb48cb0e42f4",
   "metadata": {},
   "outputs": [
    {
     "name": "stdout",
     "output_type": "stream",
     "text": [
      "12.03064227104187\n"
     ]
    }
   ],
   "source": [
    "print(en-st)"
   ]
  },
  {
   "cell_type": "code",
   "execution_count": 13,
   "id": "35986d01-4416-4253-a85d-7f830760e702",
   "metadata": {},
   "outputs": [],
   "source": [
    "df.repartition(1).write.csv(\"shopee\")"
   ]
  },
  {
   "cell_type": "code",
   "execution_count": 14,
   "id": "561b97fc-8606-4cde-bb3c-481fb966c5f2",
   "metadata": {},
   "outputs": [],
   "source": [
    "data = df.toPandas()\n",
    "data = data.applymap(lambda x: x.encode('unicode_escape').\n",
    "                 decode('utf-8') if isinstance(x, str) else x)\n",
    "data.to_excel(\"shopee.xlsx\")  "
   ]
  },
  {
   "cell_type": "code",
   "execution_count": 15,
   "id": "d1d0f6c8-0f89-4303-9bdc-bbaffd4b22c9",
   "metadata": {},
   "outputs": [
    {
     "name": "stdout",
     "output_type": "stream",
     "text": [
      "+--------------------------------------------------------------------------------------------------------------+------------------------------------------------------------------------------------------------------------------------------------------------------+\n",
      "|product_name                                                                                                  |product_url                                                                                                                                           |\n",
      "+--------------------------------------------------------------------------------------------------------------+------------------------------------------------------------------------------------------------------------------------------------------------------+\n",
      "|Mũ Bảo Hiểm Nửa Đầu 1/2 Nhiều Tem Kèm K\u001d",
      "ính Phi Công Siêu HOT - Hàng Cao Cấp-Nón Bảo Hiểm 1/2 Có Kính Tuỳ Chọn|https://shopee.vn/Mũ-Bảo-Hiểm-Nửa-Đầu-1-2-Nhiều-Tem-Kèm-K\u001d",
      "ính-Phi-Công-Siêu-HOT-Hàng-Cao-Cấp-Nón-Bảo-Hiểm-1-2-Có-Kính-Tuỳ-Chọn-i.298458622.18320367562|\n",
      "+--------------------------------------------------------------------------------------------------------------+------------------------------------------------------------------------------------------------------------------------------------------------------+\n",
      "\n"
     ]
    }
   ],
   "source": [
    "# df.filter(F.col('product_name').contains('Hàng Cao Cấp-Nón Bảo Hiểm 1/2'))\\\n",
    "# .select('product_name', 'product_url').show(200, False)"
   ]
  },
  {
   "cell_type": "code",
   "execution_count": 16,
   "id": "a3f9da4b-4166-4a9d-b200-87376f0359ee",
   "metadata": {},
   "outputs": [
    {
     "data": {
      "text/plain": [
       "0"
      ]
     },
     "execution_count": 16,
     "metadata": {},
     "output_type": "execute_result"
    }
   ],
   "source": [
    "df.filter(F.col('product_revenue').isNull()).count()"
   ]
  },
  {
   "cell_type": "code",
   "execution_count": 17,
   "id": "6ef101cc-3fcb-44c4-8c67-32e65fe11998",
   "metadata": {},
   "outputs": [
    {
     "data": {
      "text/plain": [
       "148960"
      ]
     },
     "execution_count": 17,
     "metadata": {},
     "output_type": "execute_result"
    }
   ],
   "source": [
    "df.count()"
   ]
  },
  {
   "cell_type": "code",
   "execution_count": null,
   "id": "41f99ebe-cddd-42df-ba4f-6c261722dd35",
   "metadata": {},
   "outputs": [],
   "source": []
  },
  {
   "cell_type": "code",
   "execution_count": null,
   "id": "ecb9e119-20ef-4ec0-8ab2-e05ca6d0d2e0",
   "metadata": {},
   "outputs": [],
   "source": []
  }
 ],
 "metadata": {
  "kernelspec": {
   "display_name": "Python 3 (ipykernel)",
   "language": "python",
   "name": "python3"
  },
  "language_info": {
   "codemirror_mode": {
    "name": "ipython",
    "version": 3
   },
   "file_extension": ".py",
   "mimetype": "text/x-python",
   "name": "python",
   "nbconvert_exporter": "python",
   "pygments_lexer": "ipython3",
   "version": "3.9.6"
  }
 },
 "nbformat": 4,
 "nbformat_minor": 5
}
